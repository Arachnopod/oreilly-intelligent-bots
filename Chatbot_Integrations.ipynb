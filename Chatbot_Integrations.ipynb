{
 "cells": [
  {
   "cell_type": "markdown",
   "metadata": {},
   "source": [
    "# Chatbots integration\n",
    "\n",
    "You can find some setup instructions and gentle introduction in this section.\n",
    "We will go through creating your first chatbot and integrating it with Facebook/Messenger, Slack and Webex Teams."
   ]
  },
  {
   "cell_type": "markdown",
   "metadata": {
    "collapsed": true
   },
   "source": [
    "## Facebook/Messenger setup\n",
    "\n",
    "To configure your Messenger chatbot you need to follow the steps below.\n",
    "1. Go to [Facebook for developers page](https://developers.facebook.com/).\n",
    "2. Click on **My Apps** and next on **Add a New App**.\n",
    "3. Go to [Facebook](https://facebook.com/) and **Create a new page**. You need to have a Facebook account. You can also do it from [Facebook for developers page](https://developers.facebook.com/). You need to choose ***Settings**, next choose **Advanced** and go to **App page** section. Click **Create New Page**.\n",
    "4. Create a new **Community** page and fill out the form.\n",
    "5. Go back to [Facebook for developers page](https://developers.facebook.com/) and fill out **Display Name**, **Category** and **Contact Email** in **Settings->Basic**.\n",
    "6. In the **Dashboard** choose **Messenger** and click **Setup**.\n",
    "7. Select **Page** in Messenger setup page and copy the **Page Access Token** below under **ACCESS TOKEN**\n",
    "8. Setup **Webhooks** and fill in the url. Use your current url if you have a public one or start the code below and use tools like [ngrok](https://ngrok.com/) to get a public url. Subscribe to **messages, message_reads**. Put a **verification token** of your choice that you need to assign to the variable **VERIFY_TOKEN** below.\n",
    "9. Save Changes and you are ready to go."
   ]
  },
  {
   "cell_type": "code",
   "execution_count": null,
   "metadata": {
    "collapsed": true
   },
   "outputs": [],
   "source": [
    "ACCESS_TOKEN = '' # Page Access Token\n",
    "VERIFY_TOKEN = '' # Verification Token"
   ]
  },
  {
   "cell_type": "markdown",
   "metadata": {},
   "source": [
    "The following code runs a Flask app receiving two types of requests:\n",
    "* GET for verification,\n",
    "* POST for Facebook bot messages."
   ]
  },
  {
   "cell_type": "code",
   "execution_count": null,
   "metadata": {
    "collapsed": true
   },
   "outputs": [],
   "source": [
    "from flask import Flask, request\n",
    "from pymessenger.bot import Bot\n",
    "\n",
    "app = Flask(__name__)\n",
    "bot = Bot(ACCESS_TOKEN)\n",
    "\n",
    "@app.route(\"/\", methods=['GET', 'POST'])\n",
    "def receive_message():\n",
    "    if request.method == 'GET':\n",
    "        token_sent = request.args.get(\"hub.verify_token\")\n",
    "        return verify_fb_token(token_sent)\n",
    "    else:\n",
    "        output = request.get_json()\n",
    "        for event in output['entry']:            \n",
    "            if 'messaging' in event:\n",
    "                messaging = event['messaging']\n",
    "                for message in messaging:\n",
    "                    if message.get('message'):\n",
    "                        recipient_id = message['sender']['id']\n",
    "                        if message['message'].get('text'):\n",
    "                            response_sent_text = get_message()\n",
    "                            send_message(recipient_id, response_sent_text)\n",
    "                return \"Message Processed\"\n",
    "\n",
    "def verify_fb_token(token_sent):\n",
    "    if token_sent == VERIFY_TOKEN:\n",
    "        return request.args.get(\"hub.challenge\")\n",
    "    return 'Invalid verification token'\n",
    "\n",
    "def get_message():\n",
    "    response = \"Hi! Here is Greg, your advisor. How can I help you?\"\n",
    "    return response\n",
    "\n",
    "def send_message(recipient_id, response):\n",
    "    bot.send_text_message(recipient_id, response)\n",
    "    return \"success\"\n",
    "\n",
    "if __name__ == \"__main__\":\n",
    "    app.run(host=\"0.0.0.0\",port=5000)"
   ]
  },
  {
   "cell_type": "markdown",
   "metadata": {},
   "source": [
    "After the above cell is executed, you should have a message of a running flask app. Make sure you have a public url and you have provided it as a **callback url** at Facebook for developers page](https://developers.facebook.com/) **Webhook** setup page."
   ]
  },
  {
   "cell_type": "markdown",
   "metadata": {},
   "source": [
    "### Test Messenger chatbot\n",
    "\n",
    "After you verify your app, you should get logs below the information **Running on ...** above. Now you can go to Facebook, search for your page and using the ** Send Message** blue button. This should open a chat popup and you are able to send message to your bot. Each message should be marked above as Flask logs. Please keep in mind that only you can send message as only you have the priviliges to do so. You can change it at [Facebook Developers](https://developers.facebook.com/) in the **Roles** section.\n",
    "\n",
    "#### Messenger message types\n",
    "\n",
    "Except of pure text messages we can also send a bit more complex messages like audio files, images or just buttons. You can find the full list of messages at [Facebook for developers page](https://developers.facebook.com/)."
   ]
  },
  {
   "cell_type": "markdown",
   "metadata": {},
   "source": [
    "## Slack\n",
    "\n",
    "Slack can be used with two API types: Real Time Messaging and Events. The first one can be used for sending messages to Slack users, groups or channels. You can also use it with other API methods that are allowed in [RTM](https://api.slack.com/rtm). Events API is used for event subscription and it means, we expect to get a message when a specific actions happens that we subscribed to."
   ]
  },
  {
   "cell_type": "markdown",
   "metadata": {},
   "source": [
    "### RTM configuration\n",
    "\n",
    "To setup your chatbot with RTM API please follow the steps below.\n",
    "1. Go to [Slack](www.slack.com) and **Register**.\n",
    "2. Create a new **Workspace**.\n",
    "3. Click **Browser** in the top.\n",
    "4. Browser for **Bots** and choose it.\n",
    "5. Click on **Add configuration** button.\n",
    "6. Fill out the fields: \n",
    "    - Customize Name,\n",
    "    - Full Name.\n",
    "7. Copy the **API Token** and paste it into a variable SLACK_TOKEN. This variable is set below.\n",
    "8. **Save Integration**.\n",
    "\n",
    "Now, it's time to do the first test. Please keep in mind to add your bot to the channel your are sending a messsage to. The easiest way is to call the bot with @botname in the channel and send the invitation that popup."
   ]
  },
  {
   "cell_type": "code",
   "execution_count": null,
   "metadata": {
    "collapsed": true
   },
   "outputs": [],
   "source": [
    "SLACK_TOKEN = \"\"\n",
    "\n",
    "sc = SlackClient(SLACK_TOKEN)\n",
    "\n",
    "if sc.rtm_connect():\n",
    "     sc.api_call(\"chat.postMessage\", channel=\"#general\",\n",
    "                          text=\"Hello. I'm Anna. How can I help?\", as_user=True)\n",
    "else:\n",
    "    print(\"Connection failed\")"
   ]
  },
  {
   "cell_type": "markdown",
   "metadata": {},
   "source": [
    "### Setup Slack for Events API\n",
    "\n",
    "Follow the instructions to setup your Slack account for RTM API:\n",
    "1. Go to your workspace and click **Build** and next **Start Building**.\n",
    "2. Fill out the **App Name** and choose the Workspace. Next, click on **Create app**.\n",
    "3. Go to **Event Subscriptions** and turn it on. Save changes.\n",
    "4. Go to **Bot Users** and fill out the fields. You can turn the online status. Save changes.\n",
    "5. Go back to **Event Subscriptions** and subscribe to Workspace Events for one of the events. It can be **reaction_added**.\n",
    "6. In case of Events API we need to verify the URL that will be used for the callbacks. Use the Flask app below and  [ngrok](https://ngrok.com/). In **Request URL fill** set ngrok URL and add at the end /slack/events. Use the code below to validate the URL.\n",
    "7. Go back to **Basic Information**. Fill out the App name and give an app icon (optional). Copy the **Verification Token** and copy it to the variable below. It will be used to verify our chatbot connection.\n",
    "8. Go to **OAuth and Permissions** and copy the **Bot User OAuth Access Token** value. This token can be used for RTM to send messages as the same bot.\n",
    "9. Go to the top and make sure you have changes on **Event Subscriptions**, **Permissions** and **Bots**.\n",
    "10. Install your app."
   ]
  },
  {
   "cell_type": "code",
   "execution_count": null,
   "metadata": {
    "collapsed": true
   },
   "outputs": [],
   "source": [
    "VERIFICATION_TOKEN = \"\" # "
   ]
  },
  {
   "cell_type": "code",
   "execution_count": null,
   "metadata": {
    "collapsed": true
   },
   "outputs": [],
   "source": [
    "from flask import Flask, request\n",
    "from slackeventsapi import SlackEventAdapter\n",
    "\n",
    "app = Flask(__name__)\n",
    "@app.route(\"/slack/events\",methods=['GET','POST'])\n",
    "def authorize():\n",
    "  output = request.get_json()\n",
    "  return output[\"challenge\"]\n",
    "\n",
    "if __name__ == \"__main__\":\n",
    "  app.run(port=3000)"
   ]
  },
  {
   "cell_type": "markdown",
   "metadata": {},
   "source": [
    "Now we can start a new instance of our server to handle the actions."
   ]
  },
  {
   "cell_type": "code",
   "execution_count": null,
   "metadata": {
    "collapsed": true
   },
   "outputs": [],
   "source": [
    "app = Flask(__name__)\n",
    "\n",
    "slack_events_adapter = SlackEventAdapter(VERIFICATION_TOKEN, \n",
    "                                         \"/slack/events\", app)\n",
    "\n",
    "@slack_events_adapter.on(\"reaction_added\")\n",
    "def reaction_added(event):\n",
    " print(\"Hello\")\n",
    " emoji = event.get(\"event\").get(\"reaction\")\n",
    " print(emoji)\n",
    "\n",
    "if __name__ == \"__main__\":\n",
    "  app.run(port=3000)"
   ]
  },
  {
   "cell_type": "markdown",
   "metadata": {},
   "source": [
    "#### Test Slack chatbot\n",
    "\n",
    "You can test your events or API by sending request using the [API Tester](https://api.slack.com/methods). Please keep in mind that you can combine the Events and RTM code using VERIFICATION and SLACK tokens. Changing any Events API configuration needs to be followed by an app reinstallation."
   ]
  },
  {
   "cell_type": "markdown",
   "metadata": {},
   "source": [
    "## Webex\n",
    "\n",
    "Before we develop a chatbot for Webex, we need to do some setup in the first place. Please go through the following steps:\n",
    "\n",
    "1. To create a Webex Teams account, please go to [Webex Teams](https://www.webex.com/products/teams/index.html) and Try it for free for now.\n",
    "2. Next, sign in to [Webex Teams](https://teams.webex.com/signin).\n",
    "3. Go to [My Apps](https://developer.webex.com/apps.html) section and setup the bot. Copy past the Access Token and put it into WEBEX_TEAMS_ACCESS_TOKEN variable below."
   ]
  },
  {
   "cell_type": "code",
   "execution_count": null,
   "metadata": {
    "collapsed": true
   },
   "outputs": [],
   "source": [
    "WEBEX_TEAMS_ACCESS_TOKEN=\"NDQyM2MzNGEtN2QxYS00Mzc4LWI3NWEtN2U4YWE2ZDJmYWFjNTZhNmZkZTAtZmU3\""
   ]
  },
  {
   "cell_type": "markdown",
   "metadata": {},
   "source": [
    "Run the code below to run the server that will get the webooks of our bot, each time"
   ]
  },
  {
   "cell_type": "code",
   "execution_count": null,
   "metadata": {
    "collapsed": true
   },
   "outputs": [],
   "source": [
    "from flask import Flask, request\n",
    "from webexteamssdk import WebexTeamsAPI, Webhook\n",
    "\n",
    "flask_app = Flask(__name__)\n",
    "api = WebexTeamsAPI(access_token=WEBEX_TEAMS_ACCESS_TOKEN)\n",
    "\n",
    "# Your Webex Teams webhook should point to http://<serverip>:5000/events\n",
    "@flask_app.route('/events', methods=['GET', 'POST'])\n",
    "def webex_teams_webhook_events():\n",
    "    if request.method == 'POST':\n",
    "        json_data = request.json\n",
    "        print(\"\\n\")\n",
    "        print(\"WEBHOOK POST RECEIVED:\")\n",
    "        print(json_data)\n",
    "        print(\"\\n\")\n",
    "\n",
    "        # Create a Webhook object from the JSON data\n",
    "        webhook_obj = Webhook(json_data)\n",
    "        room = api.rooms.get(webhook_obj.data.roomId)\n",
    "        message = api.messages.get(webhook_obj.data.id)\n",
    "        person = api.people.get(message.personId)\n",
    "\n",
    "        print(\"NEW MESSAGE IN ROOM '{}'\".format(room.title))\n",
    "        print(\"FROM '{}'\".format(person.displayName))\n",
    "        print(\"MESSAGE '{}'\\n\".format(message.text))\n",
    "\n",
    "        me = api.people.me()\n",
    "        if message.personId == me.id:\n",
    "            return 'Bot message'\n",
    "        else:\n",
    "            msg = api.messages.create(roomId=room.id, text=\"Sample text\")\n",
    "            return 'Answer sent'\n",
    "\n",
    "if __name__ == '__main__':\n",
    "    flask_app.run(host='0.0.0.0', port=9900)"
   ]
  },
  {
   "cell_type": "markdown",
   "metadata": {
    "collapsed": true
   },
   "source": [
    "Run ngrok and copy past the url. Go to [Webhooks configuration](https://developer.webex.com/endpoint-webhooks-post.html) and add a webhook on all messages for the ngrok url with /events added. You are ready to go."
   ]
  }
 ],
 "metadata": {
  "kernelspec": {
   "display_name": "Python 3",
   "language": "python",
   "name": "python3"
  },
  "language_info": {
   "codemirror_mode": {
    "name": "ipython",
    "version": 3
   },
   "file_extension": ".py",
   "mimetype": "text/x-python",
   "name": "python",
   "nbconvert_exporter": "python",
   "pygments_lexer": "ipython3",
   "version": "3.5.3"
  }
 },
 "nbformat": 4,
 "nbformat_minor": 2
}
